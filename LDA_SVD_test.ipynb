{
 "cells": [
  {
   "cell_type": "markdown",
   "metadata": {},
   "source": [
    "<h1> LDA </h1>\n",
    "\n",
    "\n",
    "--------"
   ]
  },
  {
   "cell_type": "code",
   "execution_count": 1,
   "metadata": {},
   "outputs": [
    {
     "name": "stdout",
     "output_type": "stream",
     "text": [
      "(150, 2)\n"
     ]
    },
    {
     "name": "stderr",
     "output_type": "stream",
     "text": [
      "<frozen importlib._bootstrap>:219: RuntimeWarning: numpy.ufunc size changed, may indicate binary incompatibility. Expected 192 from C header, got 216 from PyObject\n"
     ]
    }
   ],
   "source": [
    "from sklearn.discriminant_analysis import LinearDiscriminantAnalysis\n",
    "from sklearn.preprocessing import StandardScaler\n",
    "from sklearn.datasets import load_iris\n",
    "\n",
    "iris = load_iris()\n",
    "iris_scaled = StandardScaler().fit_transform(iris.data)\n",
    "\n",
    "lda = LinearDiscriminantAnalysis(n_components=2)\n",
    "lda.fit(iris_scaled, iris.target)\n",
    "iris_lda = lda.transform(iris_scaled)\n",
    "print(iris_lda.shape)"
   ]
  },
  {
   "cell_type": "code",
   "execution_count": 5,
   "metadata": {},
   "outputs": [
    {
     "data": {
      "image/png": "[encoded data removed]",
      "text/plain": [
       "<Figure size 432x288 with 1 Axes>"
      ]
     },
     "metadata": {
      "needs_background": "light"
     },
     "output_type": "display_data"
    }
   ],
   "source": [
    "import pandas as pd\n",
    "import matplotlib.pyplot as plt\n",
    "%matplotlib inline\n",
    "\n",
    "lda_columns = ['lda_component_1','lda_component_2']\n",
    "irisDF_lda = pd.DataFrame(iris_lda, columns=lda_columns)\n",
    "irisDF_lda['target'] = iris.target\n",
    "\n",
    "markers = ['^', 's', 'o']\n",
    "\n",
    "for i, marker in enumerate(markers):\n",
    "    x_axis_data = irisDF_lda[irisDF_lda['target']==i]['lda_component_1']\n",
    "    y_axis_data = irisDF_lda[irisDF_lda['target']==i]['lda_component_2']\n",
    "    plt.scatter(x_axis_data, y_axis_data, marker=marker, label=iris.target_names[i])\n",
    "    \n",
    "plt.legend()\n",
    "plt.xlabel('component1')\n",
    "plt.ylabel('component2')\n",
    "plt.show()"
   ]
  },
  {
   "cell_type": "markdown",
   "metadata": {},
   "source": [
    "<h1> SVD 분해 </h1>\n",
    "\n",
    "-------"
   ]
  },
  {
   "cell_type": "code",
   "execution_count": 6,
   "metadata": {},
   "outputs": [
    {
     "name": "stdout",
     "output_type": "stream",
     "text": [
      "[[-0.212 -0.285 -0.574 -0.44 ]\n",
      " [-0.33   1.184  1.615  0.367]\n",
      " [-0.014  0.63   1.71  -1.327]\n",
      " [ 0.402 -0.191  1.404 -1.969]]\n"
     ]
    }
   ],
   "source": [
    "import numpy as np\n",
    "from numpy.linalg import svd\n",
    "\n",
    "# 랜덤 4X4 행렬 생성\n",
    "np.random.seed(121)\n",
    "a = np.random.randn(4,4)\n",
    "print(np.round(a,3))"
   ]
  },
  {
   "cell_type": "markdown",
   "metadata": {},
   "source": [
    "* 랜덤으로 생성하는 이유 : 독립변수들 간의 상관관계 없애기 위해!"
   ]
  },
  {
   "cell_type": "code",
   "execution_count": 8,
   "metadata": {},
   "outputs": [
    {
     "name": "stdout",
     "output_type": "stream",
     "text": [
      "U\n",
      " [[-0.079 -0.318  0.867  0.376]\n",
      " [ 0.383  0.787  0.12   0.469]\n",
      " [ 0.656  0.022  0.357 -0.664]\n",
      " [ 0.645 -0.529 -0.328  0.444]]\n",
      "Sigma\n",
      " [3.423 2.023 0.463 0.079]\n",
      "Vt\n",
      " [[ 0.041  0.224  0.786 -0.574]\n",
      " [-0.2    0.562  0.37   0.712]\n",
      " [-0.778  0.395 -0.333 -0.357]\n",
      " [-0.593 -0.692  0.366  0.189]]\n"
     ]
    }
   ],
   "source": [
    "U, Sigma, Vt = svd(a)\n",
    "print('U\\n',np.round(U,3))\n",
    "print('Sigma\\n',np.round(Sigma,3))\n",
    "print('Vt\\n',np.round(Vt,3))"
   ]
  },
  {
   "cell_type": "code",
   "execution_count": 9,
   "metadata": {},
   "outputs": [
    {
     "data": {
      "text/plain": [
       "array([[-0.212, -0.285, -0.574, -0.44 ],\n",
       "       [-0.33 ,  1.184,  1.615,  0.367],\n",
       "       [-0.014,  0.63 ,  1.71 , -1.327],\n",
       "       [ 0.402, -0.191,  1.404, -1.969]])"
      ]
     },
     "execution_count": 9,
     "metadata": {},
     "output_type": "execute_result"
    }
   ],
   "source": [
    "Sigma_mat = np.diag(Sigma)\n",
    "a_ = np.dot(np.dot(U,Sigma_mat),Vt)\n",
    "np.round(a_,3)"
   ]
  },
  {
   "cell_type": "code",
   "execution_count": 10,
   "metadata": {},
   "outputs": [
    {
     "data": {
      "text/plain": [
       "array([[-0.212, -0.285, -0.574, -0.44 ],\n",
       "       [-0.33 ,  1.184,  1.615,  0.367],\n",
       "       [-0.542,  0.899,  1.041, -0.073],\n",
       "       [-0.212, -0.285, -0.574, -0.44 ]])"
      ]
     },
     "execution_count": 10,
     "metadata": {},
     "output_type": "execute_result"
    }
   ],
   "source": [
    "# 선형 종속일 경우 (row간 의존성 존재)\n",
    "\n",
    "a[2] = a[0] + a[1]\n",
    "a[3] = a[0]\n",
    "np.round(a,3)"
   ]
  },
  {
   "cell_type": "code",
   "execution_count": 11,
   "metadata": {},
   "outputs": [
    {
     "name": "stdout",
     "output_type": "stream",
     "text": [
      "U\n",
      " [[ 0.246  0.583 -0.071 -0.771]\n",
      " [-0.774 -0.017  0.551 -0.31 ]\n",
      " [-0.529  0.566 -0.551  0.31 ]\n",
      " [ 0.246  0.583  0.623  0.461]]\n",
      "Sigma\n",
      " [2.663 0.807 0.    0.   ]\n",
      "Vt\n",
      " [[ 0.164 -0.575 -0.782 -0.173]\n",
      " [-0.68   0.194 -0.132 -0.695]\n",
      " [-0.703 -0.444  0.056  0.553]\n",
      " [-0.129  0.659 -0.606  0.426]]\n"
     ]
    }
   ],
   "source": [
    "U, Sigma, Vt = svd(a)\n",
    "print('U\\n',np.round(U,3))\n",
    "print('Sigma\\n',np.round(Sigma,3))\n",
    "print('Vt\\n',np.round(Vt,3))"
   ]
  },
  {
   "cell_type": "code",
   "execution_count": 14,
   "metadata": {},
   "outputs": [
    {
     "data": {
      "text/plain": [
       "array([[-0.212, -0.285, -0.574, -0.44 ],\n",
       "       [-0.33 ,  1.184,  1.615,  0.367],\n",
       "       [-0.542,  0.899,  1.041, -0.073],\n",
       "       [-0.212, -0.285, -0.574, -0.44 ]])"
      ]
     },
     "execution_count": 14,
     "metadata": {},
     "output_type": "execute_result"
    }
   ],
   "source": [
    "U_ = U[:, :2]\n",
    "Sigma_mat = np.diag(Sigma[:2])\n",
    "Vt_ = Vt[:2]\n",
    "a_ = np.dot(np.dot(U_,Sigma_mat),Vt_)\n",
    "np.round(a_,3)"
   ]
  },
  {
   "cell_type": "markdown",
   "metadata": {},
   "source": [
    "<h1> Truncated SVD </h1>\n",
    "\n",
    "-------"
   ]
  },
  {
   "cell_type": "code",
   "execution_count": 18,
   "metadata": {},
   "outputs": [
    {
     "name": "stdout",
     "output_type": "stream",
     "text": [
      "원본행렬:\n",
      " [[0.04872488 0.28910966 0.72096635 0.02161625 0.20592277 0.05077326]\n",
      " [0.30227189 0.66391029 0.30811439 0.58359128 0.06957095 0.86740448]\n",
      " [0.13324052 0.17812466 0.49592955 0.86369964 0.75894384 0.97048513]\n",
      " [0.75930255 0.38425003 0.40871833 0.71336043 0.27066977 0.85410287]\n",
      " [0.91316397 0.76075607 0.51666854 0.16783577 0.29869229 0.28394305]\n",
      " [0.32721258 0.46014033 0.54436836 0.21740087 0.79986833 0.72668445]]\n",
      "U\n",
      ": [[-0.17075128  0.25375057  0.57885222 -0.59523059  0.43476398  0.16752785]\n",
      " [-0.41009937 -0.05003605 -0.43168791 -0.66463344 -0.44487224 -0.05754595]\n",
      " [-0.49157048 -0.61928932  0.19288635  0.10209817  0.24967068 -0.51465967]\n",
      " [-0.48174761  0.01281277 -0.4386615   0.21737782  0.47209045  0.55245692]\n",
      " [-0.38200043  0.7410168  -0.04663398  0.24753109  0.00780423 -0.49138833]\n",
      " [-0.42780354 -0.01782454  0.49676138  0.29157184 -0.57254103  0.39632962]]\n",
      "Sigma\n",
      ": [2.95668773 1.02918132 0.80828638 0.48142609 0.37477594 0.13880505]\n",
      "Vt\n",
      ": [[-0.35593288 -0.36587097 -0.37893659 -0.39516129 -0.34614699 -0.56558561]\n",
      " [ 0.57841241  0.47638461  0.23202781 -0.41679852 -0.20471329 -0.41113421]\n",
      " [-0.35840891 -0.07465831  0.55304609 -0.35330926  0.61888695 -0.22860605]\n",
      " [ 0.5612472  -0.39290665 -0.43169772 -0.10917045  0.57053074 -0.08270136]\n",
      " [ 0.26207952 -0.53711992  0.49498567  0.47768392 -0.21287952 -0.35257068]\n",
      " [ 0.16312518 -0.436748    0.25560995 -0.55244818 -0.29056955  0.57242926]]\n",
      "U\n",
      ": [[ 0.59523059 -0.57885222 -0.25375057  0.17075128]\n",
      " [ 0.66463344  0.43168791  0.05003605  0.41009937]\n",
      " [-0.10209817 -0.19288635  0.61928932  0.49157048]\n",
      " [-0.21737782  0.4386615  -0.01281277  0.48174761]\n",
      " [-0.24753109  0.04663398 -0.7410168   0.38200043]\n",
      " [-0.29157184 -0.49676138  0.01782454  0.42780354]]\n",
      "Sigma\n",
      ": [0.48142609 0.80828638 1.02918132 2.95668773]\n",
      "Vt\n",
      ": [[-0.5612472   0.39290665  0.43169772  0.10917045 -0.57053074  0.08270136]\n",
      " [ 0.35840891  0.07465831 -0.55304609  0.35330926 -0.61888695  0.22860605]\n",
      " [-0.57841241 -0.47638461 -0.23202781  0.41679852  0.20471329  0.41113421]\n",
      " [ 0.35593288  0.36587097  0.37893659  0.39516129  0.34614699  0.56558561]]\n",
      "복원행렬:\n",
      " [[ 0.00222862  0.3867835   0.63436996 -0.04337066  0.24736598  0.09490969]\n",
      " [ 0.34727072  0.57086908  0.3926838   0.65882151  0.03175713  0.81319366]\n",
      " [ 0.12037082  0.19718315  0.46787356  0.77953705  0.75810557  1.0443682 ]\n",
      " [ 0.70042425  0.51277316  0.30154029  0.67120853  0.33061613  0.87258649]\n",
      " [ 0.92352374  0.73253771  0.53265522  0.12875768  0.279496    0.32401804]\n",
      " [ 0.37447425  0.36891466  0.63651796  0.35029129  0.77017476  0.61954094]]\n"
     ]
    }
   ],
   "source": [
    "import numpy as np\n",
    "from scipy.sparse.linalg import svds\n",
    "from scipy.linalg import svd\n",
    "\n",
    "np.random.seed(21)\n",
    "matrix = np.random.random((6,6))\n",
    "print('원본행렬:\\n', matrix)\n",
    "\n",
    "U, Sigma, Vt = svd(matrix, full_matrices=False)\n",
    "print('U\\n:', U)\n",
    "print('Sigma\\n:', Sigma)\n",
    "print('Vt\\n:', Vt)\n",
    "\n",
    "num_components = 4\n",
    "U_tr, Sigma_tr, Vt_tr = svds(matrix, k=num_components)\n",
    "print('U\\n:', U_tr)\n",
    "print('Sigma\\n:', Sigma_tr)\n",
    "print('Vt\\n:', Vt_tr)\n",
    "matrix_tr = np.dot(np.dot(U_tr,np.diag(Sigma_tr)),Vt_tr)\n",
    "\n",
    "print('복원행렬:\\n', matrix_tr)"
   ]
  },
  {
   "cell_type": "code",
   "execution_count": null,
   "metadata": {},
   "outputs": [],
   "source": []
  }
 ],
 "metadata": {
  "kernelspec": {
   "display_name": "Python 3",
   "language": "python",
   "name": "python3"
  },
  "language_info": {
   "codemirror_mode": {
    "name": "ipython",
    "version": 3
   },
   "file_extension": ".py",
   "mimetype": "text/x-python",
   "name": "python",
   "nbconvert_exporter": "python",
   "pygments_lexer": "ipython3",
   "version": "3.8.3"
  }
 },
 "nbformat": 4,
 "nbformat_minor": 4
}
